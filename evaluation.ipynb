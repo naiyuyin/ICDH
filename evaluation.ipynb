{
 "cells": [
  {
   "cell_type": "code",
   "execution_count": 12,
   "metadata": {},
   "outputs": [],
   "source": [
    "import numpy as np\n",
    "import utils as ut\n",
    "import matplotlib.pyplot as plt\n",
    "import seaborn as sns\n",
    "sns.set()"
   ]
  },
  {
   "cell_type": "code",
   "execution_count": 22,
   "metadata": {
    "pycharm": {
     "name": "#%%\n"
    }
   },
   "outputs": [],
   "source": [
    "A_notears = np.loadtxt(\"results/A_notears_real.txt\", delimiter=\",\")\n",
    "A_nll = np.loadtxt(\"results/A_nll.txt\", delimiter= \",\")\n",
    "A_golem_nv = np.loadtxt(\"results/A_golem_nv_processed.txt\", delimiter=\",\")\n",
    "A_golem_ev = np.loadtxt(\"results/A_golem_ev_processed.txt\", delimiter= \",\")\n",
    "W = np.loadtxt(\"/Users/naiyuyin/Documents/Research/data/Sachs_data/sachs_W.txt\", delimiter=\",\")"
   ]
  },
  {
   "cell_type": "code",
   "execution_count": 24,
   "metadata": {
    "pycharm": {
     "name": "#%%\n"
    }
   },
   "outputs": [],
   "source": [
    "thres = np.linspace(0.1, 1.5, 100)\n",
    "SHDs_nll, AUC_nll = ut.shd_curve(W, A_nll, thres, post=False)\n",
    "SHDs_notears, AUC_notears = ut.shd_curve(W, A_notears, thres, post=False)\n",
    "SHDs_nv,AUC_nv= ut.shd_curve(W, A_golem_nv, thres, post=False)\n",
    "SHDs_ev, AUC_ev = ut.shd_curve(W, A_golem_ev, thres, post=False)"
   ]
  },
  {
   "cell_type": "code",
   "execution_count": 15,
   "metadata": {
    "pycharm": {
     "name": "#%%\n"
    }
   },
   "outputs": [
    {
     "data": {
      "text/plain": [
       "23.602020202020192"
      ]
     },
     "execution_count": 15,
     "metadata": {},
     "output_type": "execute_result"
    }
   ],
   "source": [
    "AUC_notears"
   ]
  },
  {
   "cell_type": "code",
   "execution_count": 25,
   "metadata": {},
   "outputs": [
    {
     "data": {
      "text/plain": [
       "23.276767676767665"
      ]
     },
     "execution_count": 25,
     "metadata": {},
     "output_type": "execute_result"
    }
   ],
   "source": [
    "AUC_nv"
   ]
  },
  {
   "cell_type": "code",
   "execution_count": 16,
   "metadata": {
    "pycharm": {
     "name": "#%%\n"
    }
   },
   "outputs": [
    {
     "data": {
      "text/plain": [
       "20.674747474747466"
      ]
     },
     "execution_count": 16,
     "metadata": {},
     "output_type": "execute_result"
    }
   ],
   "source": [
    "AUC_nll"
   ]
  },
  {
   "cell_type": "code",
   "execution_count": 27,
   "metadata": {
    "pycharm": {
     "name": "#%%\n"
    }
   },
   "outputs": [
    {
     "data": {
      "image/png": "[encoded data removed]",
      "text/plain": [
       "<Figure size 432x288 with 1 Axes>"
      ]
     },
     "metadata": {},
     "output_type": "display_data"
    }
   ],
   "source": [
    "plt.plot(thres, SHDs_nll)\n",
    "plt.plot(thres, SHDs_notears)\n",
    "plt.plot(thres, SHDs_nv)\n",
    "plt.plot(thres, SHDs_ev)\n",
    "plt.xlabel(\"Thresholds\")\n",
    "plt.ylabel(\"SHD\")\n",
    "plt.title(\"SHD curves\")\n",
    "plt.legend([\"Our method\", \"NOTEARS\", \"GOLEM-NV\", \"GOLEM-EV\"])\n",
    "plt.savefig('SHD-curves.png', dpi=500)\n",
    "\n",
    "plt.show()"
   ]
  },
  {
   "cell_type": "code",
   "execution_count": 32,
   "metadata": {
    "pycharm": {
     "name": "#%%\n"
    }
   },
   "outputs": [],
   "source": [
    "p_nll, r_nll, auPRC_nll = ut.PrecisionRecall_curve(W, A_nll)\n",
    "p_notears, r_notears, auPRC__notears = ut.PrecisionRecall_curve(W, A_notears)\n",
    "_,_,auRPC_ev = ut.PrecisionRecall_curve(W, A_golem_ev)"
   ]
  },
  {
   "cell_type": "code",
   "execution_count": 33,
   "metadata": {
    "pycharm": {
     "name": "#%%\n"
    }
   },
   "outputs": [
    {
     "data": {
      "text/plain": [
       "0.356160810885786"
      ]
     },
     "execution_count": 33,
     "metadata": {},
     "output_type": "execute_result"
    }
   ],
   "source": [
    "auPRC_nll\n"
   ]
  },
  {
   "cell_type": "code",
   "execution_count": 34,
   "metadata": {
    "pycharm": {
     "name": "#%%\n"
    }
   },
   "outputs": [
    {
     "data": {
      "text/plain": [
       "0.342708383523327"
      ]
     },
     "execution_count": 34,
     "metadata": {},
     "output_type": "execute_result"
    }
   ],
   "source": [
    "auPRC__notears"
   ]
  },
  {
   "cell_type": "code",
   "execution_count": 36,
   "metadata": {
    "pycharm": {
     "name": "#%%\n"
    }
   },
   "outputs": [
    {
     "data": {
      "text/plain": [
       "0.10213744588744589"
      ]
     },
     "execution_count": 36,
     "metadata": {},
     "output_type": "execute_result"
    }
   ],
   "source": [
    "auRPC_ev"
   ]
  },
  {
   "cell_type": "code",
   "execution_count": null,
   "metadata": {},
   "outputs": [],
   "source": []
  }
 ],
 "metadata": {
  "kernelspec": {
   "display_name": "Python 3",
   "language": "python",
   "name": "python3"
  },
  "language_info": {
   "codemirror_mode": {
    "name": "ipython",
    "version": 3
   },
   "file_extension": ".py",
   "mimetype": "text/x-python",
   "name": "python",
   "nbconvert_exporter": "python",
   "pygments_lexer": "ipython3",
   "version": "3.7.4"
  }
 },
 "nbformat": 4,
 "nbformat_minor": 1
}
