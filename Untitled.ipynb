{
 "cells": [
  {
   "cell_type": "code",
   "execution_count": 23,
   "metadata": {},
   "outputs": [],
   "source": [
    "import numpy as np\n",
    "from linear_update_A_B import nll_linear_A_B as nll_linear\n",
    "from notears.linear import notears_linear\n",
    "from linear_update_A_ab import nll_linear_A_a_b as nll_linear_new"
   ]
  },
  {
   "cell_type": "code",
   "execution_count": 2,
   "metadata": {},
   "outputs": [],
   "source": [
    "bi_sets = np.loadtxt(f\"data/real/pairs/processed/bi_sets.txt\", delimiter = \",\")\n",
    "label = np.loadtxt(f\"data/real/pairs/processed/ce.txt\", delimiter = \",\")\n",
    "pred = np.zeros([len(bi_sets),2])"
   ]
  },
  {
   "cell_type": "code",
   "execution_count": 19,
   "metadata": {},
   "outputs": [],
   "source": [
    "s = bi_sets[0]"
   ]
  },
  {
   "cell_type": "code",
   "execution_count": 44,
   "metadata": {},
   "outputs": [
    {
     "data": {
      "text/plain": [
       "1.0"
      ]
     },
     "execution_count": 44,
     "metadata": {},
     "output_type": "execute_result"
    }
   ],
   "source": [
    "label[int(s)]"
   ]
  },
  {
   "cell_type": "code",
   "execution_count": 42,
   "metadata": {},
   "outputs": [],
   "source": [
    "s = 33\n",
    "X = np.loadtxt(f\"data/real/pairs/processed/X_{s:04d}.txt\", delimiter = \",\")\n",
    "A_notears = notears_linear(X=X, lambda1=0, loss_type=\"l2\")"
   ]
  },
  {
   "cell_type": "code",
   "execution_count": 43,
   "metadata": {},
   "outputs": [
    {
     "data": {
      "text/plain": [
       "array([[0.00000000e+00, 4.15088784e-01],\n",
       "       [1.61027368e-04, 0.00000000e+00]])"
      ]
     },
     "execution_count": 43,
     "metadata": {},
     "output_type": "execute_result"
    }
   ],
   "source": [
    "A_notears"
   ]
  },
  {
   "cell_type": "code",
   "execution_count": 45,
   "metadata": {},
   "outputs": [
    {
     "name": "stdout",
     "output_type": "stream",
     "text": [
      "Notears prediction: X --> Y\n"
     ]
    }
   ],
   "source": [
    "if np.abs(A_notears[0,1]) > np.abs(A_notears[1,0]):\n",
    "    print(f\"Notears prediction: X --> Y\")\n",
    "elif np.abs(A_notears[0,1]) < np.abs(A_notears[1,0]):\n",
    "    print(f\"Notears prediction: X <-- Y\")"
   ]
  },
  {
   "cell_type": "code",
   "execution_count": 46,
   "metadata": {},
   "outputs": [
    {
     "name": "stdout",
     "output_type": "stream",
     "text": [
      "--------------- Iteration 1 ---------------\n",
      " Step 1: Update structural parameter A\n",
      "SHD after update A is 0\n",
      " Step 2: Update variance parameter a, b\n",
      "SHD after update B is 0\n",
      "Iteration 1 loss:  5.4995\n",
      "Iteration 0 loss:  12.9127\tDecrease of the nll losses: 7.4132\n",
      "Go into the next iteration.\n",
      "--------------- Iteration 2 ---------------\n",
      " Step 1: Update structural parameter A\n",
      "SHD after update A is 1\n",
      " Step 2: Update variance parameter a, b\n",
      "SHD after update B is 1\n",
      "Iteration 2 loss:  5.4990\n",
      "Iteration 1 loss:  5.4995\tDecrease of the nll losses: 0.0005\n",
      "Reach convergence. Stop the iterative approach and return final estimation.\n"
     ]
    }
   ],
   "source": [
    "A_nll, a_nll, b_nll, t_nll, nll, rec = nll_linear_new(X=X, A_gt = np.array([[0,1],[0,0]]), verbose=True)"
   ]
  },
  {
   "cell_type": "code",
   "execution_count": 47,
   "metadata": {},
   "outputs": [
    {
     "data": {
      "text/plain": [
       "array([[0.00000000e+00, 4.16475417e-01],\n",
       "       [2.14260965e-04, 0.00000000e+00]])"
      ]
     },
     "execution_count": 47,
     "metadata": {},
     "output_type": "execute_result"
    }
   ],
   "source": [
    "A_nll"
   ]
  },
  {
   "cell_type": "code",
   "execution_count": null,
   "metadata": {},
   "outputs": [],
   "source": []
  }
 ],
 "metadata": {
  "kernelspec": {
   "display_name": "Python 3",
   "language": "python",
   "name": "python3"
  },
  "language_info": {
   "codemirror_mode": {
    "name": "ipython",
    "version": 3
   },
   "file_extension": ".py",
   "mimetype": "text/x-python",
   "name": "python",
   "nbconvert_exporter": "python",
   "pygments_lexer": "ipython3",
   "version": "3.6.8"
  }
 },
 "nbformat": 4,
 "nbformat_minor": 2
}
